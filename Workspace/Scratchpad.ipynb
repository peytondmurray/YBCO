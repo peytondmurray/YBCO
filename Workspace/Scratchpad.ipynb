{
 "cells": [
  {
   "cell_type": "code",
   "execution_count": 2,
   "metadata": {},
   "outputs": [],
   "source": [
    "import numpy as np\n",
    "import pandas as pd\n",
    "\n",
    "# Bulk YBCO lattice parameters, in A\n",
    "a_bulk = 3.827\n",
    "b_bulk = 3.893\n",
    "c_bulk = 11.699"
   ]
  },
  {
   "cell_type": "code",
   "execution_count": 3,
   "metadata": {},
   "outputs": [
    {
     "name": "stdout",
     "output_type": "stream",
     "text": [
      "0.9982049747841697\n",
      "1.0017982531255352\n"
     ]
    }
   ],
   "source": [
    "print(11.678/c_bulk)\n",
    "print(c_bulk/11.678)"
   ]
  },
  {
   "cell_type": "markdown",
   "metadata": {},
   "source": [
    "Crystallite size from XRD"
   ]
  },
  {
   "cell_type": "code",
   "execution_count": 37,
   "metadata": {},
   "outputs": [],
   "source": [
    "def deg_to_rad(a):\n",
    "    return a*np.pi/180\n",
    "\n",
    "def scherrer(center, left, right, sto_fwhm):\n",
    "    return 1.54056/(deg_to_rad(right-left-sto_fwhm)*np.cos(deg_to_rad(center/2)))\n",
    "\n",
    "def scherrer_fwhm(center, fwhm, sto_fwhm):\n",
    "    return 1.54056/(deg_to_rad(fwhm-sto_fwhm)*np.cos(deg_to_rad(center/2)))"
   ]
  },
  {
   "cell_type": "markdown",
   "metadata": {},
   "source": [
    "For the Gd (20 nm) sample:\n",
    "\n",
    "Center: 14.47 degrees, 39763 intensity\n",
    "\n",
    "Left: 14.15, 20748\n",
    "\n",
    "Right: 14.82, 20748\n",
    "\n",
    "FWHM (2 theta) = 0.67 degrees\n"
   ]
  },
  {
   "cell_type": "code",
   "execution_count": 18,
   "metadata": {},
   "outputs": [
    {
     "data": {
      "text/plain": [
       "141.11471655866987"
      ]
     },
     "execution_count": 18,
     "metadata": {},
     "output_type": "execute_result"
    }
   ],
   "source": [
    "1.54056/(deg_to_rad(0.67-0.024)*np.cos(deg_to_rad(14.472)))"
   ]
  },
  {
   "cell_type": "markdown",
   "metadata": {},
   "source": [
    "As Grown\n",
    "Center: 15.15 degrees, 23700 intensity\n",
    "\n",
    "Left: 15.11, 12040\n",
    "\n",
    "Right: 15.22, 12040\n",
    "\n",
    "FWHM: 0.11"
   ]
  },
  {
   "cell_type": "code",
   "execution_count": 19,
   "metadata": {},
   "outputs": [
    {
     "data": {
      "text/plain": [
       "1035.4030837206155"
      ]
     },
     "execution_count": 19,
     "metadata": {},
     "output_type": "execute_result"
    }
   ],
   "source": [
    "1.54056/(deg_to_rad(0.11-0.024)*np.cos(deg_to_rad(15.15/2)))"
   ]
  },
  {
   "cell_type": "code",
   "execution_count": 29,
   "metadata": {},
   "outputs": [
    {
     "data": {
      "text/plain": [
       "1035.403083720601"
      ]
     },
     "execution_count": 29,
     "metadata": {},
     "output_type": "execute_result"
    }
   ],
   "source": [
    "scherrer(15.15, 15.11, 15.22, 0.024)"
   ]
  },
  {
   "cell_type": "markdown",
   "metadata": {},
   "source": [
    "STO (001), measured on as-grown\n",
    "\n",
    "22.7749, 6739007\n",
    "\n",
    "22.7635, 3388054\n",
    "\n",
    "22.7875, 3347064\n"
   ]
  },
  {
   "cell_type": "code",
   "execution_count": 14,
   "metadata": {},
   "outputs": [
    {
     "data": {
      "text/plain": [
       "3751.6697860976815"
      ]
     },
     "execution_count": 14,
     "metadata": {},
     "output_type": "execute_result"
    }
   ],
   "source": [
    "1.54056/(deg_to_rad(22.7875-22.7635)*np.cos(deg_to_rad(22.7749/2)))"
   ]
  },
  {
   "cell_type": "markdown",
   "metadata": {},
   "source": [
    "STO (001), measured on Gd (3 nm)\n",
    "\n",
    "22.7700, 201934\n",
    "\n",
    "22.7516, 100364\n",
    "\n",
    "22.7862, 100364"
   ]
  },
  {
   "cell_type": "code",
   "execution_count": 23,
   "metadata": {},
   "outputs": [
    {
     "data": {
      "text/plain": [
       "0.034600000000001074"
      ]
     },
     "execution_count": 23,
     "metadata": {},
     "output_type": "execute_result"
    }
   ],
   "source": [
    "22.7862-22.7516"
   ]
  },
  {
   "cell_type": "markdown",
   "metadata": {},
   "source": [
    "Gd (3 nm)\n",
    "\n",
    "15.1139, 963\n",
    "\n",
    "15.0624, 478\n",
    "\n",
    "15.1603, 483\n",
    "\n",
    "(002) FWHM 0.09087 @ 14.11127 (from fit)\n",
    "\n",
    "STO FWHM 0.03059 (from fit)"
   ]
  },
  {
   "cell_type": "code",
   "execution_count": 40,
   "metadata": {},
   "outputs": [
    {
     "data": {
      "text/plain": [
       "1477.1179200698318"
      ]
     },
     "execution_count": 40,
     "metadata": {},
     "output_type": "execute_result"
    }
   ],
   "source": [
    "# scherrer(15.1139, 15.0624, 15.1603, 0.03)\n",
    "scherrer_fwhm(15.11127, 0.09087, 0.03059)"
   ]
  },
  {
   "cell_type": "markdown",
   "metadata": {},
   "source": [
    "Gd (7 nm)\n",
    "\n",
    "FWHM 0.15013 @ 15.06093 (from fit)\n",
    "\n",
    "STO FWHM 0.03907 (from fit)"
   ]
  },
  {
   "cell_type": "code",
   "execution_count": 41,
   "metadata": {},
   "outputs": [
    {
     "data": {
      "text/plain": [
       "801.6881759001219"
      ]
     },
     "execution_count": 41,
     "metadata": {},
     "output_type": "execute_result"
    }
   ],
   "source": [
    "scherrer_fwhm(15.06093, 0.15013, 0.03907)"
   ]
  },
  {
   "cell_type": "code",
   "execution_count": null,
   "metadata": {},
   "outputs": [],
   "source": []
  }
 ],
 "metadata": {
  "kernelspec": {
   "display_name": "Python 3",
   "language": "python",
   "name": "python3"
  },
  "language_info": {
   "codemirror_mode": {
    "name": "ipython",
    "version": 3
   },
   "file_extension": ".py",
   "mimetype": "text/x-python",
   "name": "python",
   "nbconvert_exporter": "python",
   "pygments_lexer": "ipython3",
   "version": "3.6.6"
  }
 },
 "nbformat": 4,
 "nbformat_minor": 2
}
