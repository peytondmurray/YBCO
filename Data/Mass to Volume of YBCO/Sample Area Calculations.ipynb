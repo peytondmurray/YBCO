{
 "cells": [
  {
   "cell_type": "code",
   "execution_count": 1,
   "metadata": {},
   "outputs": [],
   "source": [
    "from pprint import pprint\n",
    "from decimal import Decimal\n",
    "import numpy as np\n",
    "from scipy.constants import Avogadro\n",
    "\n",
    "Avogadro = Decimal(Avogadro)\n",
    "\n",
    "def decimalize(dictionary):\n",
    "    return {key:Decimal(value) for key, value in dictionary.items()}"
   ]
  },
  {
   "cell_type": "code",
   "execution_count": 2,
   "metadata": {},
   "outputs": [],
   "source": [
    "# mg -> g (converted by 1e-3 factors)\n",
    "mass = decimalize({\"AG\": 86.72*1e-3, \"3nm\":59.41*1e-3, \"7nm\":62.77*1e-3, \"20nm\":21.90*1e-3})\n",
    "\n",
    "# cm\n",
    "tYBCO = decimalize({\"AG\":100e-7, \"3nm\":100e-7, \"7nm\":100e-7, \"20nm\":100e-7})\n",
    "tGd = decimalize({\"AG\":0, \"3nm\":3e-7, \"7nm\":7e-7, \"20nm\":20e-7})\n",
    "tAu = decimalize({\"AG\":0, \"3nm\":10e-7, \"7nm\":10e-7, \"20nm\":10e-7})\n",
    "\n",
    "# g/cm^3\n",
    "densityYBCO = Decimal(6.3)\n",
    "densitySTO = Decimal(4.81)\n",
    "densityGd = Decimal(7.90)\n",
    "densityAu = Decimal(19.25) \n",
    "\n",
    "\n",
    "molarMassO = Decimal(16)\n",
    "molarMassGd = Decimal(157.25)\n",
    "\n",
    "#Molar masses:\n",
    "#Oxygen: 16u\n",
    "#Gadolinium: 157.25u"
   ]
  },
  {
   "cell_type": "code",
   "execution_count": 3,
   "metadata": {},
   "outputs": [
    {
     "name": "stdout",
     "output_type": "stream",
     "text": [
      "{'20nm': Decimal('9.102226931866367015984866525E-7'),\n",
      " '3nm': Decimal('0.000002469397697894593047952244882'),\n",
      " '7nm': Decimal('0.000002609017789566844203226052770'),\n",
      " 'AG': Decimal('0.000003604876892955276361594551603')}\n"
     ]
    }
   ],
   "source": [
    "nGdPerArea = dict()\n",
    "nOPerArea = dict()\n",
    "mGdPerArea = dict()\n",
    "mGd2O3PerArea = dict()\n",
    "mAuPerArea = dict()\n",
    "mSTOPerArea = dict()\n",
    "mYBCOPerArea = dict()\n",
    "sampleArea = dict()\n",
    "sqrtSampleArea = dict()\n",
    "\n",
    "volumeYBCO = dict()\n",
    "\n",
    "for sample in mass.keys():\n",
    "    nGdPerArea[sample] = tGd[sample]*densityGd*Avogadro/molarMassGd\n",
    "    nOPerArea[sample] = nGdPerArea[sample]*Decimal(3)/Decimal(2)\n",
    "    mGd2O3PerArea[sample] = nGdPerArea[sample]*molarMassGd/Avogadro + nOPerArea[sample]*molarMassO/Avogadro\n",
    "    mGdPerArea[sample] = tGd[sample]*densityGd\n",
    "    mAuPerArea[sample] = tAu[sample]*densityAu\n",
    "    mSTOPerArea[sample] = Decimal(0.05)*densitySTO #Thickness of STO*density of STO\n",
    "    mYBCOPerArea[sample] = Decimal(100e-7)*densityYBCO #Thickness of YBCO*density of YBCO\n",
    "    sampleArea[sample] = mass[sample]/(mSTOPerArea[sample]+mAuPerArea[sample]+mGd2O3PerArea[sample]+mYBCOPerArea[sample])\n",
    "    sqrtSampleArea[sample] = np.sqrt(sampleArea[sample])\n",
    "    volumeYBCO[sample] = sampleArea[sample]*Decimal(100e-7)\n",
    "# pprint(nGdPerArea)\n",
    "# pprint(nOPerArea)\n",
    "# pprint(mGd2O3PerArea)\n",
    "# pprint(mGdPerArea)\n",
    "# pprint(mAuPerArea)\n",
    "# pprint(mSTOPerArea)\n",
    "# pprint(mYBCOPerArea)\n",
    "# pprint(sampleArea)\n",
    "# pprint(sqrtSampleArea)\n",
    "pprint(volumeYBCO)"
   ]
  },
  {
   "cell_type": "code",
   "execution_count": 5,
   "metadata": {},
   "outputs": [
    {
     "name": "stdout",
     "output_type": "stream",
     "text": [
      "AG:0.000003604876892955276361594551603\n",
      "3nm:0.000002469397697894593047952244882\n",
      "7nm:0.000002609017789566844203226052770\n",
      "20nm:9.102226931866367015984866525E-7\n"
     ]
    }
   ],
   "source": [
    "for key, value in volumeYBCO.items():\n",
    "    print(\"{}:{}\".format(key,value))"
   ]
  },
  {
   "cell_type": "code",
   "execution_count": null,
   "metadata": {},
   "outputs": [],
   "source": []
  }
 ],
 "metadata": {
  "kernelspec": {
   "display_name": "Python 3",
   "language": "python",
   "name": "python3"
  },
  "language_info": {
   "codemirror_mode": {
    "name": "ipython",
    "version": 3
   },
   "file_extension": ".py",
   "mimetype": "text/x-python",
   "name": "python",
   "nbconvert_exporter": "python",
   "pygments_lexer": "ipython3",
   "version": "3.6.2"
  }
 },
 "nbformat": 4,
 "nbformat_minor": 2
}
